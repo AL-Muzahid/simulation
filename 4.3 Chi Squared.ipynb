{
 "cells": [
  {
   "cell_type": "code",
   "execution_count": 1,
   "metadata": {
    "collapsed": true,
    "ExecuteTime": {
     "end_time": "2023-05-25T06:34:47.131084900Z",
     "start_time": "2023-05-25T06:34:47.100919400Z"
    }
   },
   "outputs": [
    {
     "name": "stdout",
     "output_type": "stream",
     "text": [
      "[60, 5, 66, 83, 13, 73, 77, 32, 29, 87, 65, 70, 38, 10, 34, 55, 37, 94, 59, 89, 91, 20, 67, 96, 85, 39, 23, 9, 21, 80, 71, 51, 82, 0, 1, 14, 86, 52, 95, 72, 64, 57, 63, 44, 88, 78, 45, 4, 53, 11, 47, 30, 3, 40, 36, 81, 84, 26, 48, 43, 75, 6, 79, 58, 76, 19, 54, 24, 22, 93, 46, 17, 28, 74, 90, 7, 92, 33, 42, 62, 31, 16, 15, 2, 27, 61, 18, 41, 49, 56, 50, 69, 25, 35, 68, 12, 60, 5, 66, 83]\n"
     ]
    },
    {
     "data": {
      "text/plain": "100"
     },
     "execution_count": 1,
     "metadata": {},
     "output_type": "execute_result"
    }
   ],
   "source": [
    "ri = [12]\n",
    "a = 13\n",
    "b = 1\n",
    "m = 97\n",
    "n = 100\n",
    "i = 1\n",
    "while i <= n:\n",
    "    rn = ((a * ri[i - 1]) + b) % m\n",
    "    ri.append(rn)\n",
    "    i += 1\n",
    "ri = ri[1:]\n",
    "print(ri)\n",
    "len(ri)"
   ]
  },
  {
   "cell_type": "code",
   "execution_count": 2,
   "outputs": [
    {
     "data": {
      "text/plain": "[0, 10, 20, 30, 40, 50, 60, 70, 80, 90, 100]"
     },
     "execution_count": 2,
     "metadata": {},
     "output_type": "execute_result"
    }
   ],
   "source": [
    "cls = []\n",
    "i = 0\n",
    "while i<=n:\n",
    "    cls.append(i)\n",
    "    i+=10\n",
    "cls"
   ],
   "metadata": {
    "collapsed": false,
    "ExecuteTime": {
     "end_time": "2023-05-25T06:34:47.193684600Z",
     "start_time": "2023-05-25T06:34:47.131084900Z"
    }
   }
  },
  {
   "cell_type": "code",
   "execution_count": 3,
   "outputs": [
    {
     "data": {
      "text/plain": "[10, 10, 10, 10, 10, 11, 11, 10, 11, 6]"
     },
     "execution_count": 3,
     "metadata": {},
     "output_type": "execute_result"
    }
   ],
   "source": [
    "frequency = [0]*10\n",
    "for i in ri:\n",
    "    for j in range(len(cls)-1):\n",
    "        if i > cls[j] and i <= cls[j+1]:\n",
    "            frequency[j] += 1\n",
    "frequency"
   ],
   "metadata": {
    "collapsed": false,
    "ExecuteTime": {
     "end_time": "2023-05-25T06:34:47.201193900Z",
     "start_time": "2023-05-25T06:34:47.146829700Z"
    }
   }
  },
  {
   "cell_type": "code",
   "execution_count": 4,
   "outputs": [],
   "source": [
    "dif_sq = 0\n",
    "for i in frequency:\n",
    "    x = abs(i-10)\n",
    "    x = x*x\n",
    "    dif_sq += x"
   ],
   "metadata": {
    "collapsed": false,
    "ExecuteTime": {
     "end_time": "2023-05-25T06:34:47.201193900Z",
     "start_time": "2023-05-25T06:34:47.162328500Z"
    }
   }
  },
  {
   "cell_type": "code",
   "execution_count": 5,
   "outputs": [
    {
     "data": {
      "text/plain": "1.9"
     },
     "execution_count": 5,
     "metadata": {},
     "output_type": "execute_result"
    }
   ],
   "source": [
    "chi_sqr = dif_sq/10\n",
    "chi_sqr"
   ],
   "metadata": {
    "collapsed": false,
    "ExecuteTime": {
     "end_time": "2023-05-25T06:34:47.201193900Z",
     "start_time": "2023-05-25T06:34:47.177916500Z"
    }
   }
  },
  {
   "cell_type": "code",
   "execution_count": 6,
   "outputs": [
    {
     "name": "stdout",
     "output_type": "stream",
     "text": [
      "Accepted\n"
     ]
    }
   ],
   "source": [
    "if chi_sqr < 16.9:\n",
    "    print(\"Accepted\")\n",
    "else:\n",
    "    print(\"Rejected\")"
   ],
   "metadata": {
    "collapsed": false,
    "ExecuteTime": {
     "end_time": "2023-05-25T06:34:47.209733400Z",
     "start_time": "2023-05-25T06:34:47.193684600Z"
    }
   }
  }
 ],
 "metadata": {
  "kernelspec": {
   "display_name": "Python 3",
   "language": "python",
   "name": "python3"
  },
  "language_info": {
   "codemirror_mode": {
    "name": "ipython",
    "version": 2
   },
   "file_extension": ".py",
   "mimetype": "text/x-python",
   "name": "python",
   "nbconvert_exporter": "python",
   "pygments_lexer": "ipython2",
   "version": "2.7.6"
  }
 },
 "nbformat": 4,
 "nbformat_minor": 0
}
