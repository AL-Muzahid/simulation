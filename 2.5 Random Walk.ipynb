{
 "cells": [
  {
   "cell_type": "code",
   "execution_count": 6,
   "metadata": {
    "collapsed": true,
    "ExecuteTime": {
     "end_time": "2023-05-25T05:48:36.421631400Z",
     "start_time": "2023-05-25T05:48:36.392228400Z"
    }
   },
   "outputs": [],
   "source": [
    "import math\n",
    "import random\n",
    "import matplotlib.pyplot as plt"
   ]
  },
  {
   "cell_type": "code",
   "execution_count": 7,
   "outputs": [
    {
     "data": {
      "text/plain": "<Figure size 640x480 with 1 Axes>",
      "image/png": "[encoded data removed]"
     },
     "metadata": {},
     "output_type": "display_data"
    }
   ],
   "source": [
    "for asa in range(10): # number of simulates\n",
    "    step = 0\n",
    "    x = 0\n",
    "    y = 0\n",
    "    dotx = []\n",
    "    doty = []\n",
    "    direction = []\n",
    "    F_L_R = [0.5, 0.3, 0.2]\n",
    "    F_L_R = [int(10 * i) for i in F_L_R]\n",
    "    while step <= 20:\n",
    "        rn = random.randint(0, 9)\n",
    "        if rn in range(F_L_R[0]):\n",
    "            direction.append('F')\n",
    "            y += 1\n",
    "            dotx.append(x)\n",
    "            doty.append(y)\n",
    "        elif rn in range(F_L_R[0] , F_L_R[0] + F_L_R[1]):\n",
    "            direction.append('L')\n",
    "            x -= 1\n",
    "            dotx.append(x)\n",
    "            doty.append(y)\n",
    "        else:\n",
    "            direction.append('R')\n",
    "            x += 1\n",
    "            dotx.append(x)\n",
    "            doty.append(y)\n",
    "        step += 1\n",
    "    plt.plot(dotx, doty)\n",
    "    plt.show()"
   ],
   "metadata": {
    "collapsed": false,
    "ExecuteTime": {
     "end_time": "2023-05-25T05:48:36.570538900Z",
     "start_time": "2023-05-25T05:48:36.430315500Z"
    }
   }
  },
  {
   "cell_type": "code",
   "execution_count": 8,
   "outputs": [
    {
     "data": {
      "text/plain": "['F',\n 'F',\n 'F',\n 'F',\n 'F',\n 'F',\n 'F',\n 'F',\n 'F',\n 'L',\n 'F',\n 'F',\n 'R',\n 'F',\n 'F',\n 'F',\n 'R',\n 'L',\n 'F',\n 'F',\n 'F']"
     },
     "execution_count": 8,
     "metadata": {},
     "output_type": "execute_result"
    }
   ],
   "source": [
    "direction"
   ],
   "metadata": {
    "collapsed": false,
    "ExecuteTime": {
     "end_time": "2023-05-25T05:48:36.613184100Z",
     "start_time": "2023-05-25T05:48:36.571554600Z"
    }
   }
  }
 ],
 "metadata": {
  "kernelspec": {
   "display_name": "Python 3",
   "language": "python",
   "name": "python3"
  },
  "language_info": {
   "codemirror_mode": {
    "name": "ipython",
    "version": 2
   },
   "file_extension": ".py",
   "mimetype": "text/x-python",
   "name": "python",
   "nbconvert_exporter": "python",
   "pygments_lexer": "ipython2",
   "version": "2.7.6"
  }
 },
 "nbformat": 4,
 "nbformat_minor": 0
}
