{
 "cells": [
  {
   "cell_type": "code",
   "execution_count": 22,
   "metadata": {
    "collapsed": true,
    "ExecuteTime": {
     "end_time": "2023-05-25T00:52:30.774041100Z",
     "start_time": "2023-05-25T00:52:30.752137300Z"
    }
   },
   "outputs": [],
   "source": [
    "import math\n",
    "import random\n",
    "import matplotlib.pyplot as plt"
   ]
  },
  {
   "cell_type": "code",
   "execution_count": 23,
   "outputs": [],
   "source": [
    "life = [1000, 1100, 1200, 1300, 1400, 1500, 1600, 1700, 1800, 1900]\n",
    "probability = [0.10, .14, .24, .14, .12, .10, .06, .05, .03, 0.02]\n",
    "probability = [int(i * 100) for i in probability]\n",
    "c_probability = [probability[0]]\n",
    "i = 1\n",
    "while i < len(probability):\n",
    "    c_probability.append(c_probability[i - 1] + probability[i])\n",
    "    i += 1\n",
    "delay = [4, 6, 8]\n",
    "delay_probability = [0.3, 0.6, 0.1]\n",
    "delay_probability = [int(i * 10) for i in delay_probability]\n",
    "c_delay_pro = [delay_probability[0]]\n",
    "i = 1\n",
    "while i < len(delay_probability):\n",
    "    c_delay_pro.append(c_delay_pro[i - 1] + delay_probability[i])\n",
    "    i += 1"
   ],
   "metadata": {
    "collapsed": false,
    "ExecuteTime": {
     "end_time": "2023-05-25T00:52:30.821912Z",
     "start_time": "2023-05-25T00:52:30.774041100Z"
    }
   }
  },
  {
   "cell_type": "code",
   "execution_count": 24,
   "outputs": [],
   "source": [
    "def clock():\n",
    "    x = random.randint(1, 100)\n",
    "    if x <= c_probability[0]:\n",
    "        return life[0]\n",
    "    elif x <= c_probability[1]:\n",
    "        return life[1]\n",
    "    elif x <= c_probability[2]:\n",
    "        return life[2]\n",
    "    elif x <= c_probability[3]:\n",
    "        return life[3]\n",
    "    elif x <= c_probability[4]:\n",
    "        return life[4]\n",
    "    elif x <= c_probability[5]:\n",
    "        return life[5]\n",
    "    elif x <= c_probability[6]:\n",
    "        return life[6]\n",
    "    elif x <= c_probability[7]:\n",
    "        return life[7]\n",
    "    elif x <= c_probability[8]:\n",
    "        return life[8]\n",
    "    else:\n",
    "        return life[9]\n",
    "def late():\n",
    "    x = random.randint(1, 10)\n",
    "    if x <= c_delay_pro[0]:\n",
    "        return delay[0]\n",
    "    elif x <= c_delay_pro[1]:\n",
    "        return delay[1]\n",
    "    else:\n",
    "        return delay[2]"
   ],
   "metadata": {
    "collapsed": false,
    "ExecuteTime": {
     "end_time": "2023-05-25T00:52:30.821912Z",
     "start_time": "2023-05-25T00:52:30.796979800Z"
    }
   }
  },
  {
   "cell_type": "code",
   "execution_count": 25,
   "outputs": [
    {
     "name": "stdout",
     "output_type": "stream",
     "text": [
      "[1300, 1500, 1300, 1200, 1000, 1500, 1300, 1500, 1200, 1500, 1300, 1400, 1300, 1300, 1800]\n",
      "[1000, 1300, 1200, 1100, 1200, 1000, 1500, 1200, 1100, 1600, 1100, 1200, 1200, 1500, 1400, 1100, 1400]\n",
      "[1300, 1400, 1400, 1700, 1100, 1100, 1000, 1600, 1200, 1000, 1500, 1500, 1700, 1200, 1300]\n"
     ]
    }
   ],
   "source": [
    "bearing1_life = []\n",
    "bearing2_life = []\n",
    "bearing3_life = []\n",
    "lf = 0\n",
    "while lf < 20000:\n",
    "    i = clock()\n",
    "    lf += i\n",
    "    bearing1_life.append(i)\n",
    "lf = 0\n",
    "while lf < 20000:\n",
    "    i = clock()\n",
    "    lf += i\n",
    "    bearing2_life.append(i)\n",
    "lf = 0\n",
    "while lf < 20000:\n",
    "    i = clock()\n",
    "    lf += i\n",
    "    bearing3_life.append(i)\n",
    "\n",
    "print(bearing1_life)\n",
    "print(bearing2_life)\n",
    "print(bearing3_life)"
   ],
   "metadata": {
    "collapsed": false,
    "ExecuteTime": {
     "end_time": "2023-05-25T00:52:30.822910500Z",
     "start_time": "2023-05-25T00:52:30.807950100Z"
    }
   }
  },
  {
   "cell_type": "code",
   "execution_count": 26,
   "outputs": [
    {
     "name": "stdout",
     "output_type": "stream",
     "text": [
      "2 0\n"
     ]
    }
   ],
   "source": [
    "bearing_life_count = [len(bearing1_life), len(bearing2_life), len(bearing3_life)]\n",
    "maxlen = max(bearing_life_count)\n",
    "two_down = 0\n",
    "three_down = 0\n",
    "try:\n",
    "    for i in range(maxlen):\n",
    "        if (bearing1_life[i] == bearing2_life[i] == bearing3_life[i]):\n",
    "            three_down += 1\n",
    "        elif (bearing1_life[i] == bearing2_life[i] or bearing2_life[i] == bearing3_life[i] or bearing3_life[i] == bearing1_life[i]):\n",
    "            two_down += 1\n",
    "except:\n",
    "    pass\n",
    "print(two_down, three_down)"
   ],
   "metadata": {
    "collapsed": false,
    "ExecuteTime": {
     "end_time": "2023-05-25T00:52:30.837869800Z",
     "start_time": "2023-05-25T00:52:30.824905800Z"
    }
   }
  },
  {
   "cell_type": "code",
   "execution_count": 27,
   "outputs": [
    {
     "data": {
      "text/plain": "2633.3333333333335"
     },
     "execution_count": 27,
     "metadata": {},
     "output_type": "execute_result"
    }
   ],
   "source": [
    "total_cost = 0\n",
    "total_bearing_cost = 0\n",
    "total_delay_cost = 0\n",
    "total_repair_cost = 0\n",
    "num_of_bearing = sum(bearing_life_count)\n",
    "total_bearing_cost = num_of_bearing * 20\n",
    "mechanic_delay = []\n",
    "num_of_mechanic_call = num_of_bearing - two_down - (three_down * 2)\n",
    "for i in range(num_of_mechanic_call):\n",
    "    x = late()\n",
    "    mechanic_delay.append(x)\n",
    "total_delay_cost = sum(mechanic_delay) * 5\n",
    "time_needed = (num_of_bearing * 20) - (two_down * 10) - (three_down * 20)\n",
    "total_repair_cost = (time_needed / 60) * 25\n",
    "total_cost = total_bearing_cost + total_delay_cost + total_repair_cost\n",
    "total_cost"
   ],
   "metadata": {
    "collapsed": false,
    "ExecuteTime": {
     "end_time": "2023-05-25T00:52:30.896984300Z",
     "start_time": "2023-05-25T00:52:30.840863100Z"
    }
   }
  },
  {
   "cell_type": "code",
   "execution_count": 28,
   "outputs": [
    {
     "name": "stdout",
     "output_type": "stream",
     "text": [
      "Previous Cost :  2633.3333333333335\n",
      "New Cost :  1170.0\n",
      "Saves :  1463.3333333333335\n"
     ]
    }
   ],
   "source": [
    "bearing_life = []\n",
    "mechanic_delay_2 = []\n",
    "lf = 0\n",
    "while lf < 20000:\n",
    "    life_of_bearings = [clock(), clock(), clock()]\n",
    "    x = min(life_of_bearings)\n",
    "    y = late()\n",
    "    bearing_life.append(x)\n",
    "    mechanic_delay_2.append(y)\n",
    "    lf += x\n",
    "total_bearing_cost = len(bearing_life) * 20\n",
    "total_delay_cost = sum(mechanic_delay_2) * 5\n",
    "total_repair_cost = ((len(bearing_life) * 40) / 60) * 25\n",
    "total_cost_2 = total_bearing_cost + total_delay_cost\n",
    "total_repair_cost\n",
    "print(\"Previous Cost : \", total_cost)\n",
    "print(\"New Cost : \", total_cost_2)\n",
    "print(\"Saves : \", total_cost - total_cost_2)"
   ],
   "metadata": {
    "collapsed": false,
    "ExecuteTime": {
     "end_time": "2023-05-25T00:52:30.897954Z",
     "start_time": "2023-05-25T00:52:30.855822100Z"
    }
   }
  },
  {
   "cell_type": "code",
   "execution_count": 28,
   "outputs": [],
   "source": [],
   "metadata": {
    "collapsed": false,
    "ExecuteTime": {
     "end_time": "2023-05-25T00:52:30.897954Z",
     "start_time": "2023-05-25T00:52:30.869784700Z"
    }
   }
  },
  {
   "cell_type": "code",
   "execution_count": 28,
   "outputs": [],
   "source": [],
   "metadata": {
    "collapsed": false,
    "ExecuteTime": {
     "end_time": "2023-05-25T00:52:30.911540900Z",
     "start_time": "2023-05-25T00:52:30.885742600Z"
    }
   }
  }
 ],
 "metadata": {
  "kernelspec": {
   "display_name": "Python 3",
   "language": "python",
   "name": "python3"
  },
  "language_info": {
   "codemirror_mode": {
    "name": "ipython",
    "version": 2
   },
   "file_extension": ".py",
   "mimetype": "text/x-python",
   "name": "python",
   "nbconvert_exporter": "python",
   "pygments_lexer": "ipython2",
   "version": "2.7.6"
  }
 },
 "nbformat": 4,
 "nbformat_minor": 0
}
