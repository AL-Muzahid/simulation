{
 "cells": [
  {
   "cell_type": "code",
   "execution_count": 13,
   "outputs": [],
   "source": [
    "n = 10"
   ],
   "metadata": {
    "collapsed": false,
    "ExecuteTime": {
     "end_time": "2023-05-25T06:26:30.336193300Z",
     "start_time": "2023-05-25T06:26:30.323250300Z"
    }
   }
  },
  {
   "cell_type": "code",
   "execution_count": 14,
   "outputs": [
    {
     "name": "stdout",
     "output_type": "stream",
     "text": [
      "[0.05, 0.13, 0.29, 0.32, 0.6, 0.66, 0.73, 0.77, 0.83, 0.87]\n"
     ]
    }
   ],
   "source": [
    "ri = [12]\n",
    "a = 13\n",
    "b = 1\n",
    "m = 97\n",
    "\n",
    "i = 1\n",
    "while i <= 10:\n",
    "    rn = ((a * ri[i - 1]) + b) % m\n",
    "    ri.append(rn)\n",
    "    i += 1\n",
    "\n",
    "for i in range(n + 1):\n",
    "    ri[i] = ri[i] / 100\n",
    "ri = ri[1:]\n",
    "ri.sort()\n",
    "print(ri)"
   ],
   "metadata": {
    "collapsed": false,
    "ExecuteTime": {
     "end_time": "2023-05-25T06:26:30.365901100Z",
     "start_time": "2023-05-25T06:26:30.337357100Z"
    }
   }
  },
  {
   "cell_type": "code",
   "execution_count": 15,
   "outputs": [
    {
     "data": {
      "text/plain": "[0.1, 0.2, 0.3, 0.4, 0.5, 0.6, 0.7, 0.8, 0.9, 1.0]"
     },
     "execution_count": 15,
     "metadata": {},
     "output_type": "execute_result"
    }
   ],
   "source": [
    "i_by_n = []\n",
    "i = 1\n",
    "while i <= n:\n",
    "    i_by_n.append(i / n)\n",
    "    i += 1\n",
    "i_by_n"
   ],
   "metadata": {
    "collapsed": false,
    "ExecuteTime": {
     "end_time": "2023-05-25T06:26:30.365901100Z",
     "start_time": "2023-05-25T06:26:30.347851800Z"
    }
   }
  },
  {
   "cell_type": "code",
   "execution_count": 16,
   "outputs": [
    {
     "data": {
      "text/plain": "0.13"
     },
     "execution_count": 16,
     "metadata": {},
     "output_type": "execute_result"
    }
   ],
   "source": [
    "i_by_n_sub_ri = []\n",
    "for i in range(n):\n",
    "    i_by_n_sub_ri.append(i_by_n[i] - ri[i])\n",
    "positive_dev = max(i_by_n_sub_ri)\n",
    "positive_dev"
   ],
   "metadata": {
    "collapsed": false,
    "ExecuteTime": {
     "end_time": "2023-05-25T06:26:30.384441500Z",
     "start_time": "2023-05-25T06:26:30.365901100Z"
    }
   }
  },
  {
   "cell_type": "code",
   "execution_count": 17,
   "outputs": [
    {
     "data": {
      "text/plain": "0.19999999999999996"
     },
     "execution_count": 17,
     "metadata": {},
     "output_type": "execute_result"
    }
   ],
   "source": [
    "ri_sub_i_sub_1_div_n = ri.copy()\n",
    "i = 1\n",
    "while i < n:\n",
    "    ri_sub_i_sub_1_div_n[i] = ri_sub_i_sub_1_div_n[i] - i_by_n[i - 1]\n",
    "    i += 1\n",
    "negative_dev = max(ri_sub_i_sub_1_div_n)\n",
    "negative_dev"
   ],
   "metadata": {
    "collapsed": false,
    "ExecuteTime": {
     "end_time": "2023-05-25T06:26:30.463205700Z",
     "start_time": "2023-05-25T06:26:30.386009700Z"
    }
   }
  },
  {
   "cell_type": "code",
   "execution_count": 18,
   "outputs": [
    {
     "name": "stdout",
     "output_type": "stream",
     "text": [
      "Positive deviation  0.13 Negative deviation  0.19999999999999996\n",
      "Longest Deviation 0.13\n",
      "99%\n"
     ]
    }
   ],
   "source": [
    "print(\"Positive deviation \",positive_dev,\"Negative deviation \", negative_dev)\n",
    "longest_dev = max(positive_dev, positive_dev)\n",
    "print(\"Longest Deviation\", longest_dev)\n",
    "if longest_dev < 0.368:\n",
    "    print(\"99%\")\n",
    "elif longest_dev < 0.410:\n",
    "    print(\"95%\")\n",
    "else:\n",
    "    print(\"Failed\")"
   ],
   "metadata": {
    "collapsed": false,
    "ExecuteTime": {
     "end_time": "2023-05-25T06:26:30.479024200Z",
     "start_time": "2023-05-25T06:26:30.399509400Z"
    }
   }
  }
 ],
 "metadata": {
  "kernelspec": {
   "display_name": "Python 3",
   "language": "python",
   "name": "python3"
  },
  "language_info": {
   "codemirror_mode": {
    "name": "ipython",
    "version": 2
   },
   "file_extension": ".py",
   "mimetype": "text/x-python",
   "name": "python",
   "nbconvert_exporter": "python",
   "pygments_lexer": "ipython2",
   "version": "2.7.6"
  }
 },
 "nbformat": 4,
 "nbformat_minor": 0
}
