{
 "cells": [
  {
   "cell_type": "code",
   "execution_count": 7,
   "metadata": {
    "collapsed": true,
    "ExecuteTime": {
     "end_time": "2023-05-25T05:21:52.093221800Z",
     "start_time": "2023-05-25T05:21:52.080761200Z"
    }
   },
   "outputs": [],
   "source": [
    "import random\n",
    "import numpy as np"
   ]
  },
  {
   "cell_type": "code",
   "execution_count": 8,
   "outputs": [
    {
     "name": "stdout",
     "output_type": "stream",
     "text": [
      "won 8 dollar cost  17 dollar\n",
      "won 8 dollar cost  5 dollar\n",
      "won 8 dollar cost  9 dollar\n",
      "won 8 dollar cost  15 dollar\n",
      "won 8 dollar cost  7 dollar\n",
      "won 8 dollar cost  13 dollar\n",
      "won 8 dollar cost  5 dollar\n",
      "won 8 dollar cost  15 dollar\n",
      "won 8 dollar cost  21 dollar\n",
      "won 8 dollar cost  13 dollar\n",
      "won 8 dollar cost  3 dollar\n",
      "won 8 dollar cost  15 dollar\n",
      "won 8 dollar cost  3 dollar\n",
      "won 8 dollar cost  21 dollar\n",
      "won 8 dollar cost  27 dollar\n",
      "won 8 dollar cost  3 dollar\n",
      "won 8 dollar cost  11 dollar\n",
      "won 8 dollar cost  25 dollar\n",
      "won 8 dollar cost  7 dollar\n",
      "won 8 dollar cost  3 dollar\n",
      "won 8 dollar cost  5 dollar\n",
      "won 8 dollar cost  7 dollar\n",
      "won 8 dollar cost  3 dollar\n",
      "won 8 dollar cost  9 dollar\n",
      "won 8 dollar cost  9 dollar\n",
      "won 8 dollar cost  17 dollar\n",
      "won 8 dollar cost  5 dollar\n",
      "won 8 dollar cost  3 dollar\n",
      "won 8 dollar cost  11 dollar\n",
      "won 8 dollar cost  13 dollar\n",
      "won 8 dollar cost  9 dollar\n",
      "won 8 dollar cost  5 dollar\n",
      "won 8 dollar cost  17 dollar\n",
      "won 8 dollar cost  5 dollar\n",
      "won 8 dollar cost  19 dollar\n",
      "won 8 dollar cost  3 dollar\n",
      "won 8 dollar cost  5 dollar\n",
      "won 8 dollar cost  11 dollar\n",
      "won 8 dollar cost  19 dollar\n",
      "won 8 dollar cost  29 dollar\n",
      "won 8 dollar cost  9 dollar\n",
      "won 8 dollar cost  19 dollar\n",
      "won 8 dollar cost  3 dollar\n",
      "won 8 dollar cost  7 dollar\n",
      "won 8 dollar cost  3 dollar\n",
      "won 8 dollar cost  15 dollar\n",
      "won 8 dollar cost  5 dollar\n",
      "won 8 dollar cost  9 dollar\n",
      "won 8 dollar cost  5 dollar\n",
      "won 8 dollar cost  9 dollar\n",
      "Total Cost  526  Total Income  400\n"
     ]
    }
   ],
   "source": [
    "total_cost=0\n",
    "total_income =0\n",
    "iterations = int(input())\n",
    "for game in range(iterations):\n",
    "    x=0\n",
    "    h = 0\n",
    "    t = 0\n",
    "    while(True):\n",
    "        x+=1\n",
    "        total_cost +=1\n",
    "        r = random.randint(0,1)\n",
    "        if r==0:\n",
    "            h+=1\n",
    "        else:\n",
    "            t+=1\n",
    "        dif = abs(h-t)\n",
    "        if(dif>=3):\n",
    "            print(\"won 8 dollar cost \",x,\"dollar\")\n",
    "            total_income += 8\n",
    "            break\n",
    "print('Total Cost ',total_cost,\" Total Income \",total_income)"
   ],
   "metadata": {
    "collapsed": false,
    "ExecuteTime": {
     "end_time": "2023-05-25T05:22:00.261567400Z",
     "start_time": "2023-05-25T05:21:52.093221800Z"
    }
   }
  },
  {
   "cell_type": "code",
   "execution_count": 8,
   "outputs": [],
   "source": [],
   "metadata": {
    "collapsed": false,
    "ExecuteTime": {
     "end_time": "2023-05-25T05:22:00.301792200Z",
     "start_time": "2023-05-25T05:22:00.254017700Z"
    }
   }
  }
 ],
 "metadata": {
  "kernelspec": {
   "display_name": "Python 3",
   "language": "python",
   "name": "python3"
  },
  "language_info": {
   "codemirror_mode": {
    "name": "ipython",
    "version": 2
   },
   "file_extension": ".py",
   "mimetype": "text/x-python",
   "name": "python",
   "nbconvert_exporter": "python",
   "pygments_lexer": "ipython2",
   "version": "2.7.6"
  }
 },
 "nbformat": 4,
 "nbformat_minor": 0
}
