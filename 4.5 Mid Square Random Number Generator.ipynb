{
 "cells": [
  {
   "cell_type": "code",
   "execution_count": 5,
   "metadata": {
    "collapsed": true,
    "ExecuteTime": {
     "end_time": "2023-05-25T06:03:36.272864600Z",
     "start_time": "2023-05-25T06:03:36.242107200Z"
    }
   },
   "outputs": [
    {
     "data": {
      "text/plain": "[6710, 241, 5808, 7328, 6995, 9300, 4900, 100, 1000, 0]"
     },
     "execution_count": 5,
     "metadata": {},
     "output_type": "execute_result"
    }
   ],
   "source": [
    "n = 10 # no of random number generates\n",
    "seed = 4321 # initial_value\n",
    "var = int(len(str(seed))/2)\n",
    "rn = [] # random number lists\n",
    "\n",
    "for i in range(n):\n",
    "    x = seed ** 2\n",
    "    st = str(x)\n",
    "    dig = int((len(st)) / 2)\n",
    "    r = st[dig - var: dig + var]\n",
    "    seed = int(r)\n",
    "    rn.append(seed)\n",
    "rn"
   ]
  }
 ],
 "metadata": {
  "kernelspec": {
   "display_name": "Python 3",
   "language": "python",
   "name": "python3"
  },
  "language_info": {
   "codemirror_mode": {
    "name": "ipython",
    "version": 2
   },
   "file_extension": ".py",
   "mimetype": "text/x-python",
   "name": "python",
   "nbconvert_exporter": "python",
   "pygments_lexer": "ipython2",
   "version": "2.7.6"
  }
 },
 "nbformat": 4,
 "nbformat_minor": 0
}
