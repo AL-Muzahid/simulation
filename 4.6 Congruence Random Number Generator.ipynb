{
 "cells": [
  {
   "cell_type": "code",
   "execution_count": 1,
   "outputs": [],
   "source": [
    "r = [1] #initial r\n",
    "a = 13 #initial a\n",
    "b = 1 #initial b\n",
    "m = 97 # must be a prime number"
   ],
   "metadata": {
    "collapsed": false,
    "ExecuteTime": {
     "end_time": "2023-05-25T06:18:12.120408900Z",
     "start_time": "2023-05-25T06:18:12.106998600Z"
    }
   }
  },
  {
   "cell_type": "code",
   "execution_count": 2,
   "outputs": [
    {
     "data": {
      "text/plain": "[1, 14, 86, 52, 95, 72, 64, 57, 63, 44, 88]"
     },
     "execution_count": 2,
     "metadata": {},
     "output_type": "execute_result"
    }
   ],
   "source": [
    "i = 1 #iteration should start from 1 ; formula: ri = (a * r[i-1] + b) % m\n",
    "while i <= 10:\n",
    "    rn = ((a*r[i-1])+b)%m\n",
    "    r.append(rn)\n",
    "    i+=1\n",
    "r"
   ],
   "metadata": {
    "collapsed": false,
    "ExecuteTime": {
     "end_time": "2023-05-25T06:18:12.134271500Z",
     "start_time": "2023-05-25T06:18:12.120408900Z"
    }
   }
  }
 ],
 "metadata": {
  "kernelspec": {
   "display_name": "Python 3",
   "language": "python",
   "name": "python3"
  },
  "language_info": {
   "codemirror_mode": {
    "name": "ipython",
    "version": 2
   },
   "file_extension": ".py",
   "mimetype": "text/x-python",
   "name": "python",
   "nbconvert_exporter": "python",
   "pygments_lexer": "ipython2",
   "version": "2.7.6"
  }
 },
 "nbformat": 4,
 "nbformat_minor": 0
}
